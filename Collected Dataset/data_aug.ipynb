{
 "cells": [
  {
   "cell_type": "code",
   "execution_count": 1,
   "metadata": {},
   "outputs": [
    {
     "name": "stderr",
     "output_type": "stream",
     "text": [
      "Using TensorFlow backend.\n"
     ]
    }
   ],
   "source": [
    "import os\n",
    "import random\n",
    "from scipy import ndarray\n",
    "\n",
    "import skimage as sk\n",
    "import skimage.transform\n",
    "import skimage.util\n",
    "import skimage.io\n",
    "import cv2\n",
    "import numpy as np\n",
    "from keras.preprocessing.image import ImageDataGenerator\n",
    "import scipy.ndimage\n",
    "from scipy import ndimage\n",
    "import imageio"
   ]
  },
  {
   "cell_type": "code",
   "execution_count": 2,
   "metadata": {},
   "outputs": [],
   "source": [
    "datagen = ImageDataGenerator(rotation_range=10, width_shift_range=0.1, \n",
    "height_shift_range=0.1,shear_range=0.15, \n",
    "zoom_range=0.1,channel_shift_range = 10, horizontal_flip=True)"
   ]
  },
  {
   "cell_type": "code",
   "execution_count": 3,
   "metadata": {},
   "outputs": [],
   "source": [
    "# Code for Dataset letter \"L\"\n",
    "for x in range(114):\n",
    "    image_path = \"../data_aug/lmn_train/L/L\" + str(x+1) + \".jpg\"\n",
    "    image = np.expand_dims(imageio.imread(image_path), 0)\n",
    "    datagen.fit(image)\n",
    "    save_here = r'C:\\Users\\matto\\Desktop\\Proto\\data_aug\\lmn_train\\New L'\n",
    "    for x, val in zip(datagen.flow(image,\n",
    "        save_to_dir=save_here,\n",
    "        save_prefix='new',\n",
    "        save_format='jpg'),range(10)) :\n",
    "        pass"
   ]
  },
  {
   "cell_type": "code",
   "execution_count": 4,
   "metadata": {},
   "outputs": [],
   "source": [
    "# Renaming all files to \"Lx.jpg\"\n",
    "import os\n",
    "os.getcwd()\n",
    "collection = \"../data_aug/lmn_train/New L/\"\n",
    "for i, filename in enumerate(os.listdir(collection)):\n",
    "    os.rename(\"../data_aug/lmn_train/New L/\" + filename, \"../data_aug/lmn_train/New L/\" + str(\"L\") + str(i) + '.jpg')"
   ]
  },
  {
   "cell_type": "code",
   "execution_count": null,
   "metadata": {},
   "outputs": [],
   "source": [
    "# Code for Dataset letter \"M\"\n",
    "for x in range(109):\n",
    "    image_path = \"../data_aug/lmn_train/M/M\" + str(x+1) + \".jpg\"\n",
    "    image = np.expand_dims(imageio.imread(image_path), 0)\n",
    "    datagen.fit(image)\n",
    "    save_here = r'C:\\Users\\matto\\Desktop\\Proto\\data_aug\\lmn_train\\New M'\n",
    "    for x, val in zip(datagen.flow(image,\n",
    "        save_to_dir=save_here,\n",
    "        save_prefix='new',\n",
    "        save_format='jpg'),range(10)) :\n",
    "        pass"
   ]
  },
  {
   "cell_type": "code",
   "execution_count": null,
   "metadata": {},
   "outputs": [],
   "source": [
    "# Renaming all files to \"Mx.jpg\"\n",
    "import os\n",
    "os.getcwd()\n",
    "collection = \"../data_aug/lmn_train/New M/\"\n",
    "for i, filename in enumerate(os.listdir(collection)):\n",
    "    os.rename(\"../data_aug/lmn_train/New M/\" + filename, \"../data_aug/lmn_train/New M/\" + str(\"M\") + str(i) + '.jpg')"
   ]
  },
  {
   "cell_type": "code",
   "execution_count": null,
   "metadata": {},
   "outputs": [],
   "source": [
    "# Code for Dataset letter \"N\"\n",
    "for x in range(106):\n",
    "    image_path = \"../data_aug/lmn_train/N/N\" + str(x+1) + \".jpg\"\n",
    "    image = np.expand_dims(imageio.imread(image_path), 0)\n",
    "    datagen.fit(image)\n",
    "    save_here = r'C:\\Users\\matto\\Desktop\\Proto\\data_aug\\lmn_train\\New N'\n",
    "    for x, val in zip(datagen.flow(image,\n",
    "        save_to_dir=save_here,\n",
    "        save_prefix='new',\n",
    "        save_format='jpg'),range(10)) :\n",
    "        pass"
   ]
  },
  {
   "cell_type": "code",
   "execution_count": null,
   "metadata": {},
   "outputs": [],
   "source": [
    "# Renaming all files to \"Nx.jpg\"\n",
    "import os\n",
    "os.getcwd()\n",
    "collection = \"../data_aug/lmn_train/New N/\"\n",
    "for i, filename in enumerate(os.listdir(collection)):\n",
    "    os.rename(\"../data_aug/lmn_train/New N/\" + filename, \"../data_aug/lmn_train/New N/\" + str(\"N\") + str(i) + '.jpg')"
   ]
  }
 ],
 "metadata": {
  "kernelspec": {
   "display_name": "Python 3",
   "language": "python",
   "name": "python3"
  },
  "language_info": {
   "codemirror_mode": {
    "name": "ipython",
    "version": 3
   },
   "file_extension": ".py",
   "mimetype": "text/x-python",
   "name": "python",
   "nbconvert_exporter": "python",
   "pygments_lexer": "ipython3",
   "version": "3.6.6"
  }
 },
 "nbformat": 4,
 "nbformat_minor": 2
}
